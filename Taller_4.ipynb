{
  "nbformat": 4,
  "nbformat_minor": 0,
  "metadata": {
    "colab": {
      "provenance": [],
      "authorship_tag": "ABX9TyNZaO+C19Jl9yngOqoRImyP",
      "include_colab_link": true
    },
    "kernelspec": {
      "name": "python3",
      "display_name": "Python 3"
    },
    "language_info": {
      "name": "python"
    }
  },
  "cells": [
    {
      "cell_type": "markdown",
      "metadata": {
        "id": "view-in-github",
        "colab_type": "text"
      },
      "source": [
        "<a href=\"https://colab.research.google.com/github/MarioCerra/Taller_4_Condicionales_000503686/blob/main/Taller_4.ipynb\" target=\"_parent\"><img src=\"https://colab.research.google.com/assets/colab-badge.svg\" alt=\"Open In Colab\"/></a>"
      ]
    },
    {
      "cell_type": "code",
      "execution_count": null,
      "metadata": {
        "id": "gTe0RVDCd2Xw"
      },
      "outputs": [],
      "source": []
    },
    {
      "cell_type": "markdown",
      "source": [
        "## Problema #1"
      ],
      "metadata": {
        "id": "BFkTIuTGd_vJ"
      }
    },
    {
      "cell_type": "code",
      "source": [
        "## programa para ver si aprobó o reprobó la asignatura\n",
        "Nota = float(input(\"ingrese la nota \"))\n",
        "\n",
        "if Nota >= 3.0:\n",
        "  print(\"aprobó la asignatura \")\n",
        "else:\n",
        "  print(\"reprobó la asignatura \")\n"
      ],
      "metadata": {
        "colab": {
          "base_uri": "https://localhost:8080/"
        },
        "id": "2RJlTHx8edrN",
        "outputId": "7e7b7dba-d0d0-4d82-bf0f-d439ab6823a5"
      },
      "execution_count": 4,
      "outputs": [
        {
          "output_type": "stream",
          "name": "stdout",
          "text": [
            "ingrese la nota 2.5\n",
            "reprobó la asignatura \n"
          ]
        }
      ]
    },
    {
      "cell_type": "markdown",
      "source": [
        "## Problemma #2"
      ],
      "metadata": {
        "id": "P5lwtcElgICE"
      }
    },
    {
      "cell_type": "code",
      "source": [
        "## programa para ver si un numero es positivo negativo o cero\n",
        "Numero = float(input(\"ingrese el numero \"))\n",
        "\n",
        "if Numero > 0:\n",
        "  print(\"positivo \")\n",
        "if Numero == 0:\n",
        "  print(\"cero \")\n",
        "if Numero < 0:\n",
        "  print(\"negativo \")\n",
        "\n",
        "\n",
        "\n",
        ""
      ],
      "metadata": {
        "colab": {
          "base_uri": "https://localhost:8080/"
        },
        "id": "SJur0EaKgL0E",
        "outputId": "975d6678-c1ac-4c65-997a-a02a0c85f57b"
      },
      "execution_count": 50,
      "outputs": [
        {
          "output_type": "stream",
          "name": "stdout",
          "text": [
            "ingrese el numero -4\n",
            "negativo \n"
          ]
        }
      ]
    },
    {
      "cell_type": "markdown",
      "source": [
        "## Problema #3"
      ],
      "metadata": {
        "id": "8i_PsVGJoYYo"
      }
    },
    {
      "cell_type": "code",
      "source": [
        "## Programa para vereficar la contraseña\n",
        "C = input(\"ingrese la contraseña \")\n",
        "\n",
        "if C == \"python123\":\n",
        "   print(\"contraseña correcta \")\n",
        "else:\n",
        "  print(\"contraseña incorrecta \")"
      ],
      "metadata": {
        "colab": {
          "base_uri": "https://localhost:8080/"
        },
        "id": "rMUMOcmLobYd",
        "outputId": "86935d28-71a9-40fb-8351-cb66d0f12362"
      },
      "execution_count": 52,
      "outputs": [
        {
          "output_type": "stream",
          "name": "stdout",
          "text": [
            "ingrese la contraseña python122\n",
            "contraseña incorrecta \n"
          ]
        }
      ]
    },
    {
      "cell_type": "markdown",
      "source": [
        "## Problema #4"
      ],
      "metadata": {
        "id": "prZcp56hr2oj"
      }
    },
    {
      "cell_type": "code",
      "source": [
        "## programa para determinar si el numero es par o impar\n",
        "N = float(input(\"ingrese el numero \"))\n",
        "\n",
        "if  N % 2 == 0:\n",
        "  print(\"es par \")\n",
        "else:\n",
        "  print(\"no es par \")"
      ],
      "metadata": {
        "colab": {
          "base_uri": "https://localhost:8080/"
        },
        "id": "FtnyjHAQr5Yx",
        "outputId": "6273ae9e-0466-4364-a0ae-2643fe562ab9"
      },
      "execution_count": 54,
      "outputs": [
        {
          "output_type": "stream",
          "name": "stdout",
          "text": [
            "ingrese el numero 6\n",
            "es par \n"
          ]
        }
      ]
    }
  ]
}