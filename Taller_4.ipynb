{
  "nbformat": 4,
  "nbformat_minor": 0,
  "metadata": {
    "colab": {
      "provenance": [],
      "authorship_tag": "ABX9TyOysa3FvSoCS4Z6Fr26T0Um",
      "include_colab_link": true
    },
    "kernelspec": {
      "name": "python3",
      "display_name": "Python 3"
    },
    "language_info": {
      "name": "python"
    }
  },
  "cells": [
    {
      "cell_type": "markdown",
      "metadata": {
        "id": "view-in-github",
        "colab_type": "text"
      },
      "source": [
        "<a href=\"https://colab.research.google.com/github/MarioCerra/Taller_4_Condicionales_000503686/blob/main/Taller_4.ipynb\" target=\"_parent\"><img src=\"https://colab.research.google.com/assets/colab-badge.svg\" alt=\"Open In Colab\"/></a>"
      ]
    },
    {
      "cell_type": "markdown",
      "source": [
        "#Taller 4: Estructura Selec/va Doble (if - else)\n",
        "## Mario Andres Cerra Vergara\n",
        "## ID: 000503686\n",
        "## email: mario.cerra@upb.edu.co"
      ],
      "metadata": {
        "id": "BFkTIuTGd_vJ"
      }
    },
    {
      "cell_type": "markdown",
      "source": [
        "## Problema #1"
      ],
      "metadata": {
        "id": "4_sKYyyCXv2Y"
      }
    },
    {
      "cell_type": "code",
      "source": [
        "## programa para ver si aprobó o reprobó la asignatura\n",
        "Nota = float(input(\"ingrese la nota: \"))\n",
        "\n",
        "if Nota >= 3.0:\n",
        "  print(\"aprobó la asignatura \")\n",
        "else:\n",
        "  print(\"reprobó la asignatura \")\n"
      ],
      "metadata": {
        "colab": {
          "base_uri": "https://localhost:8080/"
        },
        "id": "2RJlTHx8edrN",
        "outputId": "9e872eec-5c39-44d3-fa11-3976f8fbb4d8"
      },
      "execution_count": 5,
      "outputs": [
        {
          "output_type": "stream",
          "name": "stdout",
          "text": [
            "ingrese la nota: 2.5\n",
            "reprobó la asignatura \n"
          ]
        }
      ]
    },
    {
      "cell_type": "markdown",
      "source": [
        "## Problemma #2"
      ],
      "metadata": {
        "id": "P5lwtcElgICE"
      }
    },
    {
      "cell_type": "code",
      "source": [
        "## programa para ver si un numero es positivo negativo o cero\n",
        "Numero = float(input(\"ingrese el numero: \"))\n",
        "\n",
        "if Numero > 0:\n",
        "  print(\"positivo \")\n",
        "if Numero == 0:\n",
        "  print(\"cero \")\n",
        "if Numero < 0:\n",
        "  print(\"negativo \")\n",
        "\n",
        "\n",
        "\n"
      ],
      "metadata": {
        "colab": {
          "base_uri": "https://localhost:8080/"
        },
        "id": "SJur0EaKgL0E",
        "outputId": "d436f5c9-5f69-4c5f-c273-cf7200193a2c"
      },
      "execution_count": 4,
      "outputs": [
        {
          "output_type": "stream",
          "name": "stdout",
          "text": [
            "ingrese el numero: -4\n",
            "negativo \n"
          ]
        }
      ]
    },
    {
      "cell_type": "markdown",
      "source": [
        "## Problema #3"
      ],
      "metadata": {
        "id": "8i_PsVGJoYYo"
      }
    },
    {
      "cell_type": "code",
      "source": [
        "## Programa para vereficar la contraseña\n",
        "C = input(\"ingrese la contraseña: \")\n",
        "\n",
        "if C == \"python123\":\n",
        "   print(\"contraseña correcta \")\n",
        "else:\n",
        "  print(\"contraseña incorrecta \")"
      ],
      "metadata": {
        "colab": {
          "base_uri": "https://localhost:8080/"
        },
        "id": "rMUMOcmLobYd",
        "outputId": "115b02df-3b6c-43f2-bdd7-c3eb3dc72cd6"
      },
      "execution_count": 3,
      "outputs": [
        {
          "output_type": "stream",
          "name": "stdout",
          "text": [
            "ingrese la contraseña: python122\n",
            "contraseña incorrecta \n"
          ]
        }
      ]
    },
    {
      "cell_type": "markdown",
      "source": [
        "## Problema #4"
      ],
      "metadata": {
        "id": "prZcp56hr2oj"
      }
    },
    {
      "cell_type": "code",
      "source": [
        "## programa para determinar si el numero es par o impar\n",
        "N = float(input(\"ingrese el numero: \"))\n",
        "\n",
        "if  N % 2 == 0:\n",
        "  print(\"es par \")\n",
        "else:\n",
        "  print(\"no es par \")"
      ],
      "metadata": {
        "colab": {
          "base_uri": "https://localhost:8080/"
        },
        "id": "FtnyjHAQr5Yx",
        "outputId": "b4a515a1-d3d6-4a18-f132-11261a5992b7"
      },
      "execution_count": 2,
      "outputs": [
        {
          "output_type": "stream",
          "name": "stdout",
          "text": [
            "ingrese el numero: 6\n",
            "es par \n"
          ]
        }
      ]
    },
    {
      "cell_type": "markdown",
      "source": [
        "## Problema #5\n",
        "\n",
        "\n",
        "\n",
        "\n"
      ],
      "metadata": {
        "id": "cwhd1B-oMRVw"
      }
    },
    {
      "cell_type": "code",
      "source": [
        "N1 = float(input(\"ingrese un numero: \"))\n",
        "N2 = float(input(\"ingrese un numero: \"))\n",
        "N3 = float(input(\"ingrese un numero: \"))\n",
        "N4 = float(input(\"ingrese un numero: \"))\n",
        "N5 = float(input(\"ingrese un numero: \"))\n",
        "\n",
        "if N1 > N2 and N1 > N3 and N1 > N4 and N1 > N5:\n",
        "  print(\"el numero mayor es:\", N1)\n",
        "if N2 > N1 and N2 > N3 and N2 > N4 and N2 > N5:\n",
        "  print(\"el numero mayor es:\", N2)\n",
        "if N3 > N1 and N3 > N2 and N3 > N4 and N3 > N5:\n",
        "  print(\"el numero mayor es:\", N3)\n",
        "if N4 > N1 and N4 > N2 and N4 > N3 and N4 > N5:\n",
        "  print(\"el numero mayor es:\", N4)\n",
        "if N5 > N1 and N5 > N2 and N5 > N3 and N5 > N4:\n",
        "  print(\"el numero mayor es:\", N5)"
      ],
      "metadata": {
        "colab": {
          "base_uri": "https://localhost:8080/"
        },
        "id": "KI0LLb7npX8C",
        "outputId": "35d085f0-7f22-46fb-c806-8401193972de"
      },
      "execution_count": 1,
      "outputs": [
        {
          "output_type": "stream",
          "name": "stdout",
          "text": [
            "ingrese un numero: 15\n",
            "ingrese un numero: 1\n",
            "ingrese un numero: 8\n",
            "ingrese un numero: 20\n",
            "ingrese un numero: 7\n",
            "el numero mayor es: 20.0\n"
          ]
        }
      ]
    },
    {
      "cell_type": "markdown",
      "source": [
        "## Problema #6"
      ],
      "metadata": {
        "id": "OQPkyzluTtYH"
      }
    },
    {
      "cell_type": "code",
      "source": [
        "## programa para determinar la categoria de edad\n",
        "edad = float(input(\"ingrese su edad: \"))\n",
        "\n",
        "if edad >= 0 and edad <= 12:\n",
        " print(\"niño \")\n",
        "if edad >= 13 and edad <= 19:\n",
        "  print(\"adolescente\")\n",
        "if edad >= 20 and edad <=64:\n",
        "  print(\"adulto \")\n",
        "if edad >= 65:\n",
        "  print(\"adulto mayor \")"
      ],
      "metadata": {
        "id": "XNvJ-US1Twxe",
        "outputId": "9a3b4b5c-423c-410d-9302-b21b4c109a31",
        "colab": {
          "base_uri": "https://localhost:8080/"
        }
      },
      "execution_count": 6,
      "outputs": [
        {
          "output_type": "stream",
          "name": "stdout",
          "text": [
            "ingrese su edad: 18\n",
            "adolescente\n"
          ]
        }
      ]
    }
  ]
}